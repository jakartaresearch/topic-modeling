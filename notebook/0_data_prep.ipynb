{
 "cells": [
  {
   "cell_type": "markdown",
   "id": "fantastic-heating",
   "metadata": {},
   "source": [
    "## Data Preparation"
   ]
  },
  {
   "cell_type": "markdown",
   "id": "sized-premium",
   "metadata": {},
   "source": [
    "concatenating all files into a single file"
   ]
  },
  {
   "cell_type": "code",
   "execution_count": null,
   "id": "familiar-cooking",
   "metadata": {},
   "outputs": [],
   "source": [
    "import os\n",
    "import re\n",
    "import glob\n",
    "\n",
    "import pandas as pd"
   ]
  },
  {
   "cell_type": "code",
   "execution_count": null,
   "id": "stupid-reputation",
   "metadata": {},
   "outputs": [],
   "source": [
    "DATA_PATH = \"../data\""
   ]
  },
  {
   "cell_type": "code",
   "execution_count": null,
   "id": "reflected-jerusalem",
   "metadata": {},
   "outputs": [],
   "source": [
    "file_paths = glob.glob(os.path.join(DATA_PATH, \"*\", \"*.csv\"))"
   ]
  },
  {
   "cell_type": "code",
   "execution_count": null,
   "id": "charged-bulgaria",
   "metadata": {},
   "outputs": [],
   "source": [
    "d_all = pd.DataFrame([])"
   ]
  },
  {
   "cell_type": "code",
   "execution_count": null,
   "id": "level-jefferson",
   "metadata": {},
   "outputs": [],
   "source": [
    "for file in file_paths:\n",
    "    d_data = pd.read_csv(file)\n",
    "    d_all = pd.concat((d_all, d_data), axis=0)"
   ]
  },
  {
   "cell_type": "code",
   "execution_count": null,
   "id": "acute-stewart",
   "metadata": {},
   "outputs": [],
   "source": [
    "d_all"
   ]
  },
  {
   "cell_type": "code",
   "execution_count": null,
   "id": "miniature-avenue",
   "metadata": {},
   "outputs": [],
   "source": []
  }
 ],
 "metadata": {
  "kernelspec": {
   "display_name": "Python 3",
   "language": "python",
   "name": "python3"
  },
  "language_info": {
   "codemirror_mode": {
    "name": "ipython",
    "version": 3
   },
   "file_extension": ".py",
   "mimetype": "text/x-python",
   "name": "python",
   "nbconvert_exporter": "python",
   "pygments_lexer": "ipython3",
   "version": "3.8.5"
  }
 },
 "nbformat": 4,
 "nbformat_minor": 5
}
