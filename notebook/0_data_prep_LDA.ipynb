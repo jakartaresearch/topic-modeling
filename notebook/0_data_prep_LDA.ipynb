{
 "cells": [
  {
   "cell_type": "markdown",
   "id": "naughty-secret",
   "metadata": {},
   "source": [
    "## Data Preparation"
   ]
  },
  {
   "cell_type": "markdown",
   "id": "wireless-genetics",
   "metadata": {},
   "source": [
    "concatenating all files into a single file"
   ]
  },
  {
   "cell_type": "code",
   "execution_count": null,
   "id": "realistic-latino",
   "metadata": {},
   "outputs": [],
   "source": [
    "import os\n",
    "import re\n",
    "import glob\n",
    "from pprint import pprint\n",
    "\n",
    "from Sastrawi.Stemmer.StemmerFactory import StemmerFactory\n",
    "import pandas as pd\n",
    "\n",
    "import gensim\n",
    "from gensim.corpora import Dictionary\n",
    "from gensim.models.ldamodel import LdaModel\n",
    "from gensim.models.coherencemodel import CoherenceModel\n",
    "\n",
    "import pyLDAvis\n",
    "import pyLDAvis.gensim"
   ]
  },
  {
   "cell_type": "code",
   "execution_count": null,
   "id": "frequent-cassette",
   "metadata": {},
   "outputs": [],
   "source": [
    "DATA_PATH = \"../data\""
   ]
  },
  {
   "cell_type": "code",
   "execution_count": null,
   "id": "indoor-warner",
   "metadata": {},
   "outputs": [],
   "source": [
    "file_paths = glob.glob(os.path.join(DATA_PATH, \"*\", \"Jan-Sep-2020.csv\"))"
   ]
  },
  {
   "cell_type": "code",
   "execution_count": null,
   "id": "orange-classroom",
   "metadata": {},
   "outputs": [],
   "source": [
    "file_paths = file_paths + [\"../data/detik/news_01_Jan_2020-30_Sep_2020.csv\"]"
   ]
  },
  {
   "cell_type": "code",
   "execution_count": null,
   "id": "marine-athletics",
   "metadata": {},
   "outputs": [],
   "source": [
    "d_all = pd.DataFrame([])"
   ]
  },
  {
   "cell_type": "code",
   "execution_count": null,
   "id": "narrative-developer",
   "metadata": {},
   "outputs": [],
   "source": [
    "file_paths"
   ]
  },
  {
   "cell_type": "code",
   "execution_count": null,
   "id": "hollywood-breach",
   "metadata": {},
   "outputs": [],
   "source": [
    "for file in file_paths:\n",
    "    d_data = pd.read_csv(file)\n",
    "    d_data.columns = [\"title\", \"url\", \"date\"]\n",
    "    d_all = pd.concat((d_all, d_data), axis=0, ignore_index=True)"
   ]
  },
  {
   "cell_type": "code",
   "execution_count": null,
   "id": "sufficient-chest",
   "metadata": {},
   "outputs": [],
   "source": [
    "d_all.shape"
   ]
  },
  {
   "cell_type": "code",
   "execution_count": null,
   "id": "excited-daisy",
   "metadata": {},
   "outputs": [],
   "source": [
    "# uncomment this to save restructed dataset\n",
    "# d_all.to_json(\"../data/dataset/jan_sep_2020.json\", orient=\"records\")"
   ]
  },
  {
   "cell_type": "code",
   "execution_count": null,
   "id": "covered-better",
   "metadata": {},
   "outputs": [],
   "source": [
    "# create stemmer\n",
    "factory = StemmerFactory()\n",
    "stemmer = factory.create_stemmer()"
   ]
  },
  {
   "cell_type": "code",
   "execution_count": null,
   "id": "educated-binding",
   "metadata": {},
   "outputs": [],
   "source": [
    "d_selected = d_all.loc[:9999]"
   ]
  },
  {
   "cell_type": "code",
   "execution_count": null,
   "id": "human-quick",
   "metadata": {},
   "outputs": [],
   "source": [
    "d_selected.isna().sum()"
   ]
  },
  {
   "cell_type": "code",
   "execution_count": null,
   "id": "subjective-relative",
   "metadata": {},
   "outputs": [],
   "source": [
    "d_selected = d_selected.assign(title_stem = d_selected.title.apply(stemmer.stem))"
   ]
  },
  {
   "cell_type": "code",
   "execution_count": null,
   "id": "whole-shower",
   "metadata": {},
   "outputs": [],
   "source": [
    "d_selected.head()"
   ]
  },
  {
   "cell_type": "code",
   "execution_count": null,
   "id": "french-pharmacy",
   "metadata": {},
   "outputs": [],
   "source": [
    "d_selected = d_selected.assign(title_filtered = d_selected.title_stem.apply(lambda x: \" \".join([w for w in x.split() if len(w) > 2])))"
   ]
  },
  {
   "cell_type": "code",
   "execution_count": null,
   "id": "bright-search",
   "metadata": {},
   "outputs": [],
   "source": [
    "d_selected.head()"
   ]
  },
  {
   "cell_type": "code",
   "execution_count": null,
   "id": "downtown-clerk",
   "metadata": {},
   "outputs": [],
   "source": [
    "titles = d_selected.title_filtered"
   ]
  },
  {
   "cell_type": "code",
   "execution_count": null,
   "id": "spanish-thanks",
   "metadata": {
    "scrolled": true
   },
   "outputs": [],
   "source": [
    "titles = [t.split() for t in titles]"
   ]
  },
  {
   "cell_type": "code",
   "execution_count": null,
   "id": "minus-practitioner",
   "metadata": {},
   "outputs": [],
   "source": [
    "len(titles)"
   ]
  },
  {
   "cell_type": "code",
   "execution_count": null,
   "id": "pregnant-meter",
   "metadata": {},
   "outputs": [],
   "source": [
    "titles[0]"
   ]
  },
  {
   "cell_type": "code",
   "execution_count": null,
   "id": "activated-titanium",
   "metadata": {},
   "outputs": [],
   "source": [
    "id2word = Dictionary(titles)"
   ]
  },
  {
   "cell_type": "code",
   "execution_count": null,
   "id": "initial-boston",
   "metadata": {
    "scrolled": true
   },
   "outputs": [],
   "source": [
    "help(id2word)"
   ]
  },
  {
   "cell_type": "code",
   "execution_count": null,
   "id": "capital-chess",
   "metadata": {},
   "outputs": [],
   "source": [
    "corpus = [id2word.doc2bow(text) for text in titles]"
   ]
  },
  {
   "cell_type": "code",
   "execution_count": null,
   "id": "recorded-avatar",
   "metadata": {},
   "outputs": [],
   "source": [
    "print(corpus[:1])"
   ]
  },
  {
   "cell_type": "code",
   "execution_count": null,
   "id": "finnish-hearing",
   "metadata": {},
   "outputs": [],
   "source": [
    "[[(id2word[i], freq) for i, freq in doc] for doc in corpus[:1]]"
   ]
  },
  {
   "cell_type": "code",
   "execution_count": null,
   "id": "objective-channel",
   "metadata": {
    "scrolled": true
   },
   "outputs": [],
   "source": [
    "# Build LDA model\n",
    "#\n",
    "# Paper that is used in gensim LDA Model \n",
    "# https://papers.nips.cc/paper/2010/file/71f6278d140af599e06ad9bf1ba03cb0-Paper.pdf\n",
    "\n",
    "lda_model = LdaModel(corpus=corpus,\n",
    "                     id2word=id2word,\n",
    "                     num_topics=8, \n",
    "                     random_state=123,\n",
    "                     chunksize=10000,\n",
    "                     alpha='auto',\n",
    "                     per_word_topics=True\n",
    "                )"
   ]
  },
  {
   "cell_type": "code",
   "execution_count": null,
   "id": "opposite-hundred",
   "metadata": {
    "scrolled": true
   },
   "outputs": [],
   "source": [
    "pprint(lda_model.print_topics())"
   ]
  },
  {
   "cell_type": "code",
   "execution_count": null,
   "id": "intimate-russia",
   "metadata": {},
   "outputs": [],
   "source": [
    "doc_lda = lda_model[corpus]"
   ]
  },
  {
   "cell_type": "code",
   "execution_count": null,
   "id": "limited-institute",
   "metadata": {},
   "outputs": [],
   "source": [
    "pyLDAvis.enable_notebook()"
   ]
  },
  {
   "cell_type": "code",
   "execution_count": null,
   "id": "eligible-music",
   "metadata": {},
   "outputs": [],
   "source": [
    "p = pyLDAvis.gensim.prepare(lda_model, corpus, id2word)\n",
    "p"
   ]
  },
  {
   "cell_type": "code",
   "execution_count": null,
   "id": "thermal-certificate",
   "metadata": {},
   "outputs": [],
   "source": [
    "from IPython.display import HTML\n",
    "css_str = '<style> \\\n",
    ".jp-Button path { fill: #616161;} \\\n",
    "text.terms { fill: #616161;} \\\n",
    "</style>'\n",
    "display(HTML(css_str ))"
   ]
  },
  {
   "cell_type": "code",
   "execution_count": null,
   "id": "parliamentary-learning",
   "metadata": {},
   "outputs": [],
   "source": [
    "# Compute Coherence Score\n",
    "coherence_model_lda = CoherenceModel(model=lda_model, texts=titles, dictionary=id2word, coherence='c_v')\n",
    "coherence_lda = coherence_model_lda.get_coherence()\n",
    "print('Coherence Score: ', coherence_lda)"
   ]
  },
  {
   "cell_type": "code",
   "execution_count": null,
   "id": "accessory-arcade",
   "metadata": {},
   "outputs": [],
   "source": []
  }
 ],
 "metadata": {
  "kernelspec": {
   "display_name": "Python 3",
   "language": "python",
   "name": "python3"
  },
  "language_info": {
   "codemirror_mode": {
    "name": "ipython",
    "version": 3
   },
   "file_extension": ".py",
   "mimetype": "text/x-python",
   "name": "python",
   "nbconvert_exporter": "python",
   "pygments_lexer": "ipython3",
   "version": "3.8.5"
  }
 },
 "nbformat": 4,
 "nbformat_minor": 5
}
