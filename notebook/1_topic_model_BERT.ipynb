{
 "cells": [
  {
   "cell_type": "markdown",
   "id": "respective-twelve",
   "metadata": {},
   "source": [
    "## Topic Modeling using BERT"
   ]
  },
  {
   "cell_type": "markdown",
   "id": "rental-psychology",
   "metadata": {},
   "source": [
    "following https://towardsdatascience.com/topic-modeling-with-bert-779f7db187e6"
   ]
  },
  {
   "cell_type": "markdown",
   "id": "welcome-april",
   "metadata": {},
   "source": [
    "Reference\n",
    "- https://www.sbert.net/index.html\n",
    "- https://github.com/UKPLab/sentence-transformers"
   ]
  },
  {
   "cell_type": "code",
   "execution_count": null,
   "id": "invisible-techno",
   "metadata": {},
   "outputs": [],
   "source": [
    "import os\n",
    "import re\n",
    "\n",
    "import pandas as pd\n",
    "\n",
    "from sentence_transformers import SentenceTransformer"
   ]
  },
  {
   "cell_type": "code",
   "execution_count": null,
   "id": "optimum-tragedy",
   "metadata": {},
   "outputs": [],
   "source": [
    "d_dataset = pd.read_json(\"../data/dataset/jan_sep_2020.json\")"
   ]
  },
  {
   "cell_type": "code",
   "execution_count": null,
   "id": "municipal-companion",
   "metadata": {},
   "outputs": [],
   "source": [
    "d_dataset.head()"
   ]
  },
  {
   "cell_type": "code",
   "execution_count": null,
   "id": "colored-greek",
   "metadata": {},
   "outputs": [],
   "source": [
    "d_dataset.shape"
   ]
  },
  {
   "cell_type": "code",
   "execution_count": null,
   "id": "major-platinum",
   "metadata": {},
   "outputs": [],
   "source": [
    "model = SentenceTransformer('stsb-xlm-r-multilingual')"
   ]
  },
  {
   "cell_type": "code",
   "execution_count": null,
   "id": "inner-thousand",
   "metadata": {},
   "outputs": [],
   "source": [
    "embeddings = model.encode(data, show_progress_bar=True)"
   ]
  }
 ],
 "metadata": {
  "kernelspec": {
   "display_name": "Python 3",
   "language": "python",
   "name": "python3"
  },
  "language_info": {
   "codemirror_mode": {
    "name": "ipython",
    "version": 3
   },
   "file_extension": ".py",
   "mimetype": "text/x-python",
   "name": "python",
   "nbconvert_exporter": "python",
   "pygments_lexer": "ipython3",
   "version": "3.8.5"
  }
 },
 "nbformat": 4,
 "nbformat_minor": 5
}
